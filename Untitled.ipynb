{
 "cells": [
  {
   "cell_type": "code",
   "execution_count": 2,
   "metadata": {},
   "outputs": [
    {
     "name": "stdout",
     "output_type": "stream",
     "text": [
      "Starting training of model\n"
     ]
    },
    {
     "name": "stderr",
     "output_type": "stream",
     "text": [
      "Using TensorFlow backend.\n"
     ]
    },
    {
     "name": "stdout",
     "output_type": "stream",
     "text": [
      "Imported libraries\n"
     ]
    }
   ],
   "source": [
    "print(\"Starting training of model\")\n",
    "import numpy as np\n",
    "import pandas as pd\n",
    "import matplotlib.pyplot as plt\n",
    "from skimage.io import imshow\n",
    "from keras.layers import Dense, Conv2D, MaxPooling2D, Flatten, Dropout\n",
    "from keras.models import Sequential\n",
    "print(\"Imported libraries\")"
   ]
  },
  {
   "cell_type": "code",
   "execution_count": 3,
   "metadata": {},
   "outputs": [
    {
     "name": "stdout",
     "output_type": "stream",
     "text": [
      "Loading files\n",
      "Loaded files\n"
     ]
    }
   ],
   "source": [
    "print(\"Loading files\")\n",
    "x_train_set_fpath = 'deepsat-sat4/X_test_sat4.csv'\n",
    "y_train_set_fpath = 'deepsat-sat4/y_test_sat4.csv'\n",
    "X_train = pd.read_csv(x_train_set_fpath)\n",
    "Y_train = pd.read_csv(y_train_set_fpath)\n",
    "print(\"Loaded files\")"
   ]
  },
  {
   "cell_type": "code",
   "execution_count": null,
   "metadata": {},
   "outputs": [
    {
     "name": "stdout",
     "output_type": "stream",
     "text": [
      "We have 99999 examples and each example is a list of 3136 numbers with 4 possible classifications.\n"
     ]
    }
   ],
   "source": [
    "print ('We have',X_train.shape[0],\n",
    "       'examples and each example is a list of',\n",
    "       X_train.shape[1],'numbers with',\n",
    "       Y_train.shape[1],'possible classifications.')\n",
    "X_train_img = X_train.values.reshape([99999,28,28,4]).astype(float)\n",
    "print (X_train_img.shape)"
   ]
  },
  {
   "cell_type": "code",
   "execution_count": null,
   "metadata": {},
   "outputs": [],
   "source": []
  }
 ],
 "metadata": {
  "kernelspec": {
   "display_name": "Python 3",
   "language": "python",
   "name": "python3"
  },
  "language_info": {
   "codemirror_mode": {
    "name": "ipython",
    "version": 3
   },
   "file_extension": ".py",
   "mimetype": "text/x-python",
   "name": "python",
   "nbconvert_exporter": "python",
   "pygments_lexer": "ipython3",
   "version": "3.6.9"
  }
 },
 "nbformat": 4,
 "nbformat_minor": 4
}
